{
 "cells": [
  {
   "cell_type": "code",
   "execution_count": null,
   "id": "ae76195d-2c98-48e6-bddb-ad25794cacb6",
   "metadata": {},
   "outputs": [],
   "source": [
    "!pip3 install -U sagemaker\n",
    "!pip3 install polars"
   ]
  },
  {
   "cell_type": "code",
   "execution_count": 1,
   "id": "4b63f670-03e5-4144-9a3d-978fbb78d60d",
   "metadata": {},
   "outputs": [],
   "source": [
    "import xgboost as xgb\n",
    "import polars as pl\n",
    "import sys\n",
    "import os"
   ]
  },
  {
   "cell_type": "code",
   "execution_count": 2,
   "id": "cbac139a-f298-4d98-ade7-c2ec6629c6a1",
   "metadata": {},
   "outputs": [],
   "source": [
    "dataset = (\n",
    "    pl.scan_csv(os.path.join(\"staging_data\", f\"training_data.csv\"), low_memory=True)\n",
    "    .with_columns(pl.col(\"TMAX\").cast(pl.Int16).clip(-892, 567))\n",
    "    .with_columns(pl.col(\"TMIN\").cast(pl.Int16).clip(-892, 567))\n",
    "    .with_columns(pl.col(\"PRCP\").cast(pl.Int16).clip(0, 6000))\n",
    "    .with_columns(pl.col(\"SNOW\").cast(pl.Int16).clip(0, 1000))\n",
    "    .with_columns(pl.col(\"SNWD\").cast(pl.Int16).clip(0, 7000))\n",
    "    .with_columns((pl.col(\"year\")).cast(pl.UInt8))\n",
    "    .with_columns(pl.col(\"quarter\").cast(pl.UInt8))\n",
    "    .with_columns(pl.col(\"month\").cast(pl.UInt8))\n",
    "    .with_columns(pl.col(\"week\").cast(pl.UInt8))\n",
    "    .with_columns(pl.col(\"day_of_year\").cast(pl.UInt16))\n",
    "    .with_columns(pl.col(\"is_leap_year\").cast(pl.UInt8))\n",
    "    .with_columns(pl.col(\"latitude\").cast(pl.Float32))\n",
    "    .with_columns(pl.col(\"longitude\").cast(pl.Float32))\n",
    "    .with_columns(pl.col(\"elevation\").cast(pl.Float32).fill_null(0))\n",
    ")"
   ]
  },
  {
   "cell_type": "code",
   "execution_count": 3,
   "id": "76052af8-0913-4938-af3b-fae6ddbcd2f9",
   "metadata": {},
   "outputs": [],
   "source": [
    "X = dataset.select(pl.all().exclude([\"TMAX\", \"TMIN\", \"PRCP\", \"SNOW\", \"SNWD\"])).collect()\n",
    "Y = dataset.select([\"TMAX\", \"TMIN\", \"PRCP\", \"SNOW\", \"SNWD\"]).collect()"
   ]
  },
  {
   "cell_type": "code",
   "execution_count": 4,
   "id": "84fda969-4642-48bf-a0c4-0fb9e8d1551a",
   "metadata": {},
   "outputs": [],
   "source": [
    "m = xgb.XGBRegressor(random_state=42, tree_method=\"hist\")"
   ]
  },
  {
   "cell_type": "code",
   "execution_count": 5,
   "id": "c42237b4-d89b-4e34-9680-8b0164e1c9c2",
   "metadata": {},
   "outputs": [],
   "source": [
    "m = m.fit(X, Y)"
   ]
  },
  {
   "cell_type": "code",
   "execution_count": 6,
   "id": "76d6934a-0169-4f8f-93a3-150c5b2fb2c6",
   "metadata": {},
   "outputs": [
    {
     "name": "stdout",
     "output_type": "stream",
     "text": [
      "R2 Score for model -  0.39803391857290416\n"
     ]
    }
   ],
   "source": [
    "print(f\"R2 Score for model - \", m.score(X, Y))"
   ]
  },
  {
   "cell_type": "code",
   "execution_count": 7,
   "id": "04d365d2-b11d-472e-8478-feebf34b9ac1",
   "metadata": {},
   "outputs": [],
   "source": [
    "m.save_model(os.path.join(\"models\", f\"model_xgboost.json\"))"
   ]
  }
 ],
 "metadata": {
  "kernelspec": {
   "display_name": "Python 3 (ipykernel)",
   "language": "python",
   "name": "python3"
  },
  "language_info": {
   "codemirror_mode": {
    "name": "ipython",
    "version": 3
   },
   "file_extension": ".py",
   "mimetype": "text/x-python",
   "name": "python",
   "nbconvert_exporter": "python",
   "pygments_lexer": "ipython3",
   "version": "3.10.13"
  }
 },
 "nbformat": 4,
 "nbformat_minor": 5
}
